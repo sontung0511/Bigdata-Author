{
  "nbformat": 4,
  "nbformat_minor": 0,
  "metadata": {
    "colab": {
      "provenance": [],
      "collapsed_sections": []
    },
    "kernelspec": {
      "name": "python3",
      "display_name": "Python 3"
    },
    "language_info": {
      "name": "python"
    }
  },
  "cells": [
    {
      "cell_type": "code",
      "source": [
        "!pip install requests"
      ],
      "metadata": {
        "colab": {
          "base_uri": "https://localhost:8080/"
        },
        "id": "NNSGbh0ztMOe",
        "outputId": "a8a3d52f-adfc-464d-85f5-26d88e957856"
      },
      "execution_count": null,
      "outputs": [
        {
          "output_type": "stream",
          "name": "stdout",
          "text": [
            "Looking in indexes: https://pypi.org/simple, https://us-python.pkg.dev/colab-wheels/public/simple/\n",
            "Requirement already satisfied: requests in /usr/local/lib/python3.7/dist-packages (2.23.0)\n",
            "Requirement already satisfied: chardet<4,>=3.0.2 in /usr/local/lib/python3.7/dist-packages (from requests) (3.0.4)\n",
            "Requirement already satisfied: idna<3,>=2.5 in /usr/local/lib/python3.7/dist-packages (from requests) (2.10)\n",
            "Requirement already satisfied: certifi>=2017.4.17 in /usr/local/lib/python3.7/dist-packages (from requests) (2022.6.15)\n",
            "Requirement already satisfied: urllib3!=1.25.0,!=1.25.1,<1.26,>=1.21.1 in /usr/local/lib/python3.7/dist-packages (from requests) (1.24.3)\n"
          ]
        }
      ]
    },
    {
      "cell_type": "code",
      "execution_count": null,
      "metadata": {
        "id": "bXqHWWh1Jpsr",
        "colab": {
          "base_uri": "https://localhost:8080/"
        },
        "outputId": "5693ac4b-19cf-4b6c-de42-f14b0a68a906"
      },
      "outputs": [
        {
          "output_type": "stream",
          "name": "stdout",
          "text": [
            "Looking in indexes: https://pypi.org/simple, https://us-python.pkg.dev/colab-wheels/public/simple/\n",
            "Requirement already satisfied: beautifulsoup4 in /usr/local/lib/python3.7/dist-packages (4.6.3)\n"
          ]
        }
      ],
      "source": [
        "!pip install beautifulsoup4"
      ]
    },
    {
      "cell_type": "code",
      "source": [
        "!pip install -U \"scikit-learn==0.23.1\""
      ],
      "metadata": {
        "id": "nG5Cyk_miI4q",
        "colab": {
          "base_uri": "https://localhost:8080/"
        },
        "outputId": "7dcc5617-41f1-4796-985d-edd3d720974f"
      },
      "execution_count": null,
      "outputs": [
        {
          "output_type": "stream",
          "name": "stdout",
          "text": [
            "Looking in indexes: https://pypi.org/simple, https://us-python.pkg.dev/colab-wheels/public/simple/\n",
            "Collecting scikit-learn==0.23.1\n",
            "  Downloading scikit_learn-0.23.1-cp37-cp37m-manylinux1_x86_64.whl (6.8 MB)\n",
            "\u001b[K     |████████████████████████████████| 6.8 MB 5.2 MB/s \n",
            "\u001b[?25hRequirement already satisfied: threadpoolctl>=2.0.0 in /usr/local/lib/python3.7/dist-packages (from scikit-learn==0.23.1) (3.1.0)\n",
            "Requirement already satisfied: scipy>=0.19.1 in /usr/local/lib/python3.7/dist-packages (from scikit-learn==0.23.1) (1.7.3)\n",
            "Requirement already satisfied: numpy>=1.13.3 in /usr/local/lib/python3.7/dist-packages (from scikit-learn==0.23.1) (1.21.6)\n",
            "Requirement already satisfied: joblib>=0.11 in /usr/local/lib/python3.7/dist-packages (from scikit-learn==0.23.1) (1.1.0)\n",
            "Installing collected packages: scikit-learn\n",
            "  Attempting uninstall: scikit-learn\n",
            "    Found existing installation: scikit-learn 1.0.2\n",
            "    Uninstalling scikit-learn-1.0.2:\n",
            "      Successfully uninstalled scikit-learn-1.0.2\n",
            "\u001b[31mERROR: pip's dependency resolver does not currently take into account all the packages that are installed. This behaviour is the source of the following dependency conflicts.\n",
            "yellowbrick 1.5 requires scikit-learn>=1.0.0, but you have scikit-learn 0.23.1 which is incompatible.\n",
            "imbalanced-learn 0.8.1 requires scikit-learn>=0.24, but you have scikit-learn 0.23.1 which is incompatible.\u001b[0m\n",
            "Successfully installed scikit-learn-0.23.1\n"
          ]
        }
      ]
    },
    {
      "cell_type": "code",
      "source": [
        "#@title\n",
        "!pip install -U statsmodels"
      ],
      "metadata": {
        "id": "WvvqYty_P0l7",
        "colab": {
          "base_uri": "https://localhost:8080/"
        },
        "outputId": "09639c84-0019-433c-fde5-9ac500bd9ad2",
        "cellView": "form"
      },
      "execution_count": null,
      "outputs": [
        {
          "output_type": "stream",
          "name": "stdout",
          "text": [
            "Looking in indexes: https://pypi.org/simple, https://us-python.pkg.dev/colab-wheels/public/simple/\n",
            "Requirement already satisfied: statsmodels in /usr/local/lib/python3.7/dist-packages (0.12.2)\n",
            "Collecting statsmodels\n",
            "  Downloading statsmodels-0.13.2-cp37-cp37m-manylinux_2_17_x86_64.manylinux2014_x86_64.whl (9.8 MB)\n",
            "\u001b[K     |████████████████████████████████| 9.8 MB 5.4 MB/s \n",
            "\u001b[?25hRequirement already satisfied: pandas>=0.25 in /usr/local/lib/python3.7/dist-packages (from statsmodels) (1.3.5)\n",
            "Requirement already satisfied: scipy>=1.3 in /usr/local/lib/python3.7/dist-packages (from statsmodels) (1.7.3)\n",
            "Requirement already satisfied: packaging>=21.3 in /usr/local/lib/python3.7/dist-packages (from statsmodels) (21.3)\n",
            "Requirement already satisfied: numpy>=1.17 in /usr/local/lib/python3.7/dist-packages (from statsmodels) (1.21.6)\n",
            "Requirement already satisfied: patsy>=0.5.2 in /usr/local/lib/python3.7/dist-packages (from statsmodels) (0.5.2)\n",
            "Requirement already satisfied: pyparsing!=3.0.5,>=2.0.2 in /usr/local/lib/python3.7/dist-packages (from packaging>=21.3->statsmodels) (3.0.9)\n",
            "Requirement already satisfied: pytz>=2017.3 in /usr/local/lib/python3.7/dist-packages (from pandas>=0.25->statsmodels) (2022.2.1)\n",
            "Requirement already satisfied: python-dateutil>=2.7.3 in /usr/local/lib/python3.7/dist-packages (from pandas>=0.25->statsmodels) (2.8.2)\n",
            "Requirement already satisfied: six in /usr/local/lib/python3.7/dist-packages (from patsy>=0.5.2->statsmodels) (1.15.0)\n",
            "Installing collected packages: statsmodels\n",
            "  Attempting uninstall: statsmodels\n",
            "    Found existing installation: statsmodels 0.12.2\n",
            "    Uninstalling statsmodels-0.12.2:\n",
            "      Successfully uninstalled statsmodels-0.12.2\n",
            "Successfully installed statsmodels-0.13.2\n"
          ]
        }
      ]
    },
    {
      "cell_type": "markdown",
      "source": [
        "# New Section"
      ],
      "metadata": {
        "id": "H1-Ax4ifI0ih"
      }
    },
    {
      "cell_type": "code",
      "source": [
        "#@title\n",
        "from tables import link\n",
        "import pandas as pd\n",
        "from urllib.request import urlopen\n",
        "from bs4 import BeautifulSoup\n",
        "import requests\n",
        "from datetime import date\n",
        "import numpy as np\n",
        "import collections\n",
        "from collections import Counter\n",
        "import matplotlib.pyplot as plt\n",
        "from sklearn.model_selection import train_test_split\n",
        "import seaborn as sns\n",
        "import matplotlib.pyplot as plt\n",
        "\n"
      ],
      "metadata": {
        "id": "Ylx4X0QaL3Dj"
      },
      "execution_count": 1,
      "outputs": []
    },
    {
      "cell_type": "code",
      "source": [
        "url = 'https://quotes.toscrape.com'\n",
        "page = urlopen(url)\n",
        "soup = BeautifulSoup(page, 'html.parser')"
      ],
      "metadata": {
        "id": "0E7UPMOGLrOY"
      },
      "execution_count": 2,
      "outputs": []
    },
    {
      "cell_type": "markdown",
      "source": [
        "lưu kết quả vào 1 file tương\n",
        "ứng (kq.txt)"
      ],
      "metadata": {
        "id": "13Vx_NFl8D4y"
      }
    },
    {
      "cell_type": "code",
      "source": [
        "resp = requests.get('http://quotes.toscrape.com/')\n",
        "\n",
        "file = open(\"kq.txt\", \"wb\")\n",
        "file.write(resp.content)"
      ],
      "metadata": {
        "colab": {
          "base_uri": "https://localhost:8080/"
        },
        "id": "tAFT-ygJ8Gr6",
        "outputId": "29e7e55e-edef-4f72-b2e0-d1d22be4d407"
      },
      "execution_count": 11,
      "outputs": [
        {
          "output_type": "execute_result",
          "data": {
            "text/plain": [
              "11053"
            ]
          },
          "metadata": {},
          "execution_count": 11
        }
      ]
    },
    {
      "cell_type": "markdown",
      "source": [
        "Hãy đọc tất cả các thẻ html (div) với lớp là \"quote\" và lưu nó trong biến\n",
        "'result’, hiển thị giá trị biến 'result’ ra màn hình?"
      ],
      "metadata": {
        "id": "qDm3riXZkBeT"
      }
    },
    {
      "cell_type": "code",
      "source": [
        "result = soup.find_all('div', class_='quote')\n",
        "\n",
        "print(result)"
      ],
      "metadata": {
        "id": "1zAjsLQcj_Yt"
      },
      "execution_count": null,
      "outputs": []
    },
    {
      "cell_type": "markdown",
      "source": [
        "Hãy tìm trong biến 'result’ vừa rồi các dữ liệu có chứa nhãn \"small\" với\n",
        "class là \"author\" và in kết quả ra màn hình?"
      ],
      "metadata": {
        "id": "J3CZiQm3kvmE"
      }
    },
    {
      "cell_type": "code",
      "source": [
        "for quote in result:\n",
        "  author = quote.find('small', class_='author').text\n",
        "\n",
        "print(author)\n"
      ],
      "metadata": {
        "colab": {
          "base_uri": "https://localhost:8080/"
        },
        "id": "h66roDbKkzuF",
        "outputId": "02b267a2-7bca-4560-8d5e-6ef4c8ec955a"
      },
      "execution_count": null,
      "outputs": [
        {
          "output_type": "stream",
          "name": "stdout",
          "text": [
            "Steve Martin\n"
          ]
        }
      ]
    },
    {
      "cell_type": "markdown",
      "source": [
        "Hãy viết hàm tacgiaLink() để lấy nội dung của mỗi tác giả. Với mỗi tác giả\n",
        "in ra màn hình các nội dung (15 điểm)\n",
        " Tên tác giả\n",
        " Đường link của tác giả\n",
        " Ngày tháng năm sinh\n",
        " Và câu nói nổi tiếng của tác giả"
      ],
      "metadata": {
        "id": "auPnVfdulegY"
      }
    },
    {
      "cell_type": "markdown",
      "source": [
        "Hãy lưu kết quả ở câu c vào file Quote.csv tương ứng, với mỗi tác giả là 1\n",
        "dòng dữ liệu. Bạn được yêu cầu thu thập ít nhất 40 câu nói nổi tiếng từ trang\n",
        "web trên một cách tự động theo code của các ý trên?"
      ],
      "metadata": {
        "id": "2XuhNyPY0-7r"
      }
    },
    {
      "cell_type": "code",
      "source": [
        "all_quotes = []\n",
        "BirthYear = []\n",
        "count_quote =[]\n",
        "born_author = []\n",
        "def tacgiaLink():\n",
        "  for i in range(1, 5):\n",
        "      url = f'https://quotes.toscrape.com/page/{i}/'\n",
        "      page = urlopen(url)\n",
        "      soup = BeautifulSoup(page, 'html.parser')\n",
        "      result = soup.find_all('div', class_='quote')\n",
        "      \n",
        "      author = soup.find_all('small', class_='author')\n",
        "      def crawlborn(links):\n",
        "          response = requests.get(links)\n",
        "          soup = BeautifulSoup(response.content, \"html.parser\")\n",
        "          author_born = soup.find('span',class_='author-born-date').text\n",
        "          birth = author_born.replace('','')[-4:]\n",
        "          BirthYear.append(birth)\n",
        "          return author_born\n",
        "      for quote in result:\n",
        "        text = quote.find('span', class_='text').text\n",
        "        count_quote.append(text)\n",
        "        authors = quote.find('small', class_='author').text\n",
        "        link = quote.find('a').get('href')\n",
        "        links = 'http://quotes.toscrape.com/'+ link\n",
        "      \n",
        "        \n",
        "        link12 = crawlborn(links)\n",
        "        single_quote = [authors,links,link12,text]\n",
        "        all_quotes.append(single_quote)\n",
        "        \n",
        "                               \n",
        "tacgiaLink()\n",
        "df = pd.DataFrame(all_quotes, columns=['author', 'links', 'author_born','text'])\n",
        "df.to_csv('quotes.csv', index=False)\n",
        "df.head(10)\n",
        "#print(df)\n",
        "#----------\n"
      ],
      "metadata": {
        "id": "CIJxCDFTlhqD",
        "colab": {
          "base_uri": "https://localhost:8080/",
          "height": 580
        },
        "outputId": "62362a8e-d633-4ca7-984e-926e2379c4e3"
      },
      "execution_count": 10,
      "outputs": [
        {
          "output_type": "execute_result",
          "data": {
            "text/plain": [
              "              author                                              links  \\\n",
              "0    Albert Einstein  http://quotes.toscrape.com//author/Albert-Eins...   \n",
              "1       J.K. Rowling     http://quotes.toscrape.com//author/J-K-Rowling   \n",
              "2    Albert Einstein  http://quotes.toscrape.com//author/Albert-Eins...   \n",
              "3        Jane Austen     http://quotes.toscrape.com//author/Jane-Austen   \n",
              "4     Marilyn Monroe  http://quotes.toscrape.com//author/Marilyn-Monroe   \n",
              "5    Albert Einstein  http://quotes.toscrape.com//author/Albert-Eins...   \n",
              "6         André Gide      http://quotes.toscrape.com//author/Andre-Gide   \n",
              "7   Thomas A. Edison  http://quotes.toscrape.com//author/Thomas-A-Ed...   \n",
              "8  Eleanor Roosevelt  http://quotes.toscrape.com//author/Eleanor-Roo...   \n",
              "9       Steve Martin    http://quotes.toscrape.com//author/Steve-Martin   \n",
              "\n",
              "         author_born                                               text  \n",
              "0     March 14, 1879  “The world as we have created it is a process ...  \n",
              "1      July 31, 1965  “It is our choices, Harry, that show what we t...  \n",
              "2     March 14, 1879  “There are only two ways to live your life. On...  \n",
              "3  December 16, 1775  “The person, be it gentleman or lady, who has ...  \n",
              "4      June 01, 1926  “Imperfection is beauty, madness is genius and...  \n",
              "5     March 14, 1879  “Try not to become a man of success. Rather be...  \n",
              "6  November 22, 1869  “It is better to be hated for what you are tha...  \n",
              "7  February 11, 1847  “I have not failed. I've just found 10,000 way...  \n",
              "8   October 11, 1884  “A woman is like a tea bag; you never know how...  \n",
              "9    August 14, 1945  “A day without sunshine is like, you know, nig...  "
            ],
            "text/html": [
              "\n",
              "  <div id=\"df-db56e693-e932-4393-b751-ba3e930b78c9\">\n",
              "    <div class=\"colab-df-container\">\n",
              "      <div>\n",
              "<style scoped>\n",
              "    .dataframe tbody tr th:only-of-type {\n",
              "        vertical-align: middle;\n",
              "    }\n",
              "\n",
              "    .dataframe tbody tr th {\n",
              "        vertical-align: top;\n",
              "    }\n",
              "\n",
              "    .dataframe thead th {\n",
              "        text-align: right;\n",
              "    }\n",
              "</style>\n",
              "<table border=\"1\" class=\"dataframe\">\n",
              "  <thead>\n",
              "    <tr style=\"text-align: right;\">\n",
              "      <th></th>\n",
              "      <th>author</th>\n",
              "      <th>links</th>\n",
              "      <th>author_born</th>\n",
              "      <th>text</th>\n",
              "    </tr>\n",
              "  </thead>\n",
              "  <tbody>\n",
              "    <tr>\n",
              "      <th>0</th>\n",
              "      <td>Albert Einstein</td>\n",
              "      <td>http://quotes.toscrape.com//author/Albert-Eins...</td>\n",
              "      <td>March 14, 1879</td>\n",
              "      <td>“The world as we have created it is a process ...</td>\n",
              "    </tr>\n",
              "    <tr>\n",
              "      <th>1</th>\n",
              "      <td>J.K. Rowling</td>\n",
              "      <td>http://quotes.toscrape.com//author/J-K-Rowling</td>\n",
              "      <td>July 31, 1965</td>\n",
              "      <td>“It is our choices, Harry, that show what we t...</td>\n",
              "    </tr>\n",
              "    <tr>\n",
              "      <th>2</th>\n",
              "      <td>Albert Einstein</td>\n",
              "      <td>http://quotes.toscrape.com//author/Albert-Eins...</td>\n",
              "      <td>March 14, 1879</td>\n",
              "      <td>“There are only two ways to live your life. On...</td>\n",
              "    </tr>\n",
              "    <tr>\n",
              "      <th>3</th>\n",
              "      <td>Jane Austen</td>\n",
              "      <td>http://quotes.toscrape.com//author/Jane-Austen</td>\n",
              "      <td>December 16, 1775</td>\n",
              "      <td>“The person, be it gentleman or lady, who has ...</td>\n",
              "    </tr>\n",
              "    <tr>\n",
              "      <th>4</th>\n",
              "      <td>Marilyn Monroe</td>\n",
              "      <td>http://quotes.toscrape.com//author/Marilyn-Monroe</td>\n",
              "      <td>June 01, 1926</td>\n",
              "      <td>“Imperfection is beauty, madness is genius and...</td>\n",
              "    </tr>\n",
              "    <tr>\n",
              "      <th>5</th>\n",
              "      <td>Albert Einstein</td>\n",
              "      <td>http://quotes.toscrape.com//author/Albert-Eins...</td>\n",
              "      <td>March 14, 1879</td>\n",
              "      <td>“Try not to become a man of success. Rather be...</td>\n",
              "    </tr>\n",
              "    <tr>\n",
              "      <th>6</th>\n",
              "      <td>André Gide</td>\n",
              "      <td>http://quotes.toscrape.com//author/Andre-Gide</td>\n",
              "      <td>November 22, 1869</td>\n",
              "      <td>“It is better to be hated for what you are tha...</td>\n",
              "    </tr>\n",
              "    <tr>\n",
              "      <th>7</th>\n",
              "      <td>Thomas A. Edison</td>\n",
              "      <td>http://quotes.toscrape.com//author/Thomas-A-Ed...</td>\n",
              "      <td>February 11, 1847</td>\n",
              "      <td>“I have not failed. I've just found 10,000 way...</td>\n",
              "    </tr>\n",
              "    <tr>\n",
              "      <th>8</th>\n",
              "      <td>Eleanor Roosevelt</td>\n",
              "      <td>http://quotes.toscrape.com//author/Eleanor-Roo...</td>\n",
              "      <td>October 11, 1884</td>\n",
              "      <td>“A woman is like a tea bag; you never know how...</td>\n",
              "    </tr>\n",
              "    <tr>\n",
              "      <th>9</th>\n",
              "      <td>Steve Martin</td>\n",
              "      <td>http://quotes.toscrape.com//author/Steve-Martin</td>\n",
              "      <td>August 14, 1945</td>\n",
              "      <td>“A day without sunshine is like, you know, nig...</td>\n",
              "    </tr>\n",
              "  </tbody>\n",
              "</table>\n",
              "</div>\n",
              "      <button class=\"colab-df-convert\" onclick=\"convertToInteractive('df-db56e693-e932-4393-b751-ba3e930b78c9')\"\n",
              "              title=\"Convert this dataframe to an interactive table.\"\n",
              "              style=\"display:none;\">\n",
              "        \n",
              "  <svg xmlns=\"http://www.w3.org/2000/svg\" height=\"24px\"viewBox=\"0 0 24 24\"\n",
              "       width=\"24px\">\n",
              "    <path d=\"M0 0h24v24H0V0z\" fill=\"none\"/>\n",
              "    <path d=\"M18.56 5.44l.94 2.06.94-2.06 2.06-.94-2.06-.94-.94-2.06-.94 2.06-2.06.94zm-11 1L8.5 8.5l.94-2.06 2.06-.94-2.06-.94L8.5 2.5l-.94 2.06-2.06.94zm10 10l.94 2.06.94-2.06 2.06-.94-2.06-.94-.94-2.06-.94 2.06-2.06.94z\"/><path d=\"M17.41 7.96l-1.37-1.37c-.4-.4-.92-.59-1.43-.59-.52 0-1.04.2-1.43.59L10.3 9.45l-7.72 7.72c-.78.78-.78 2.05 0 2.83L4 21.41c.39.39.9.59 1.41.59.51 0 1.02-.2 1.41-.59l7.78-7.78 2.81-2.81c.8-.78.8-2.07 0-2.86zM5.41 20L4 18.59l7.72-7.72 1.47 1.35L5.41 20z\"/>\n",
              "  </svg>\n",
              "      </button>\n",
              "      \n",
              "  <style>\n",
              "    .colab-df-container {\n",
              "      display:flex;\n",
              "      flex-wrap:wrap;\n",
              "      gap: 12px;\n",
              "    }\n",
              "\n",
              "    .colab-df-convert {\n",
              "      background-color: #E8F0FE;\n",
              "      border: none;\n",
              "      border-radius: 50%;\n",
              "      cursor: pointer;\n",
              "      display: none;\n",
              "      fill: #1967D2;\n",
              "      height: 32px;\n",
              "      padding: 0 0 0 0;\n",
              "      width: 32px;\n",
              "    }\n",
              "\n",
              "    .colab-df-convert:hover {\n",
              "      background-color: #E2EBFA;\n",
              "      box-shadow: 0px 1px 2px rgba(60, 64, 67, 0.3), 0px 1px 3px 1px rgba(60, 64, 67, 0.15);\n",
              "      fill: #174EA6;\n",
              "    }\n",
              "\n",
              "    [theme=dark] .colab-df-convert {\n",
              "      background-color: #3B4455;\n",
              "      fill: #D2E3FC;\n",
              "    }\n",
              "\n",
              "    [theme=dark] .colab-df-convert:hover {\n",
              "      background-color: #434B5C;\n",
              "      box-shadow: 0px 1px 3px 1px rgba(0, 0, 0, 0.15);\n",
              "      filter: drop-shadow(0px 1px 2px rgba(0, 0, 0, 0.3));\n",
              "      fill: #FFFFFF;\n",
              "    }\n",
              "  </style>\n",
              "\n",
              "      <script>\n",
              "        const buttonEl =\n",
              "          document.querySelector('#df-db56e693-e932-4393-b751-ba3e930b78c9 button.colab-df-convert');\n",
              "        buttonEl.style.display =\n",
              "          google.colab.kernel.accessAllowed ? 'block' : 'none';\n",
              "\n",
              "        async function convertToInteractive(key) {\n",
              "          const element = document.querySelector('#df-db56e693-e932-4393-b751-ba3e930b78c9');\n",
              "          const dataTable =\n",
              "            await google.colab.kernel.invokeFunction('convertToInteractive',\n",
              "                                                     [key], {});\n",
              "          if (!dataTable) return;\n",
              "\n",
              "          const docLinkHtml = 'Like what you see? Visit the ' +\n",
              "            '<a target=\"_blank\" href=https://colab.research.google.com/notebooks/data_table.ipynb>data table notebook</a>'\n",
              "            + ' to learn more about interactive tables.';\n",
              "          element.innerHTML = '';\n",
              "          dataTable['output_type'] = 'display_data';\n",
              "          await google.colab.output.renderOutput(dataTable, element);\n",
              "          const docLink = document.createElement('div');\n",
              "          docLink.innerHTML = docLinkHtml;\n",
              "          element.appendChild(docLink);\n",
              "        }\n",
              "      </script>\n",
              "    </div>\n",
              "  </div>\n",
              "  "
            ]
          },
          "metadata": {},
          "execution_count": 10
        }
      ]
    },
    {
      "cell_type": "markdown",
      "source": [
        "\\Hãy dự đoán tên của người nổi tiếng theo câu nói dựa trên các đặc trưng bạn trích\n",
        "xuất ở trên và đánh giá trên bộ dữ liệu đã cho với tỉ lệ Train/Test và các độ đo phù\n",
        "hợp?"
      ],
      "metadata": {
        "id": "EtlHw7giixIE"
      }
    },
    {
      "cell_type": "markdown",
      "source": [
        "Xử lý dữ liệu- Data Imputation (5 điểm):\n",
        "- Một số giá trị của dữ liệu Trường ngày sinh chưa có, bạn hãy đề xuất cách điền?\n",
        "- Bạn hãy thêm vào Trường Tuoi (Tuổi) và đề xuất cách điền tuổi của các tác giả?"
      ],
      "metadata": {
        "id": "UvzD4Z7F07wP"
      }
    },
    {
      "cell_type": "code",
      "source": [
        "df ['author_born'].isnull()\n",
        "df.dropna(axis=1)\n",
        "df.fillna(method='backfill')"
      ],
      "metadata": {
        "colab": {
          "base_uri": "https://localhost:8080/",
          "height": 1000
        },
        "id": "6qToLhz5B4VK",
        "outputId": "323ccd32-1f0c-4a6b-bab5-fcbedf327d43"
      },
      "execution_count": 12,
      "outputs": [
        {
          "output_type": "execute_result",
          "data": {
            "text/plain": [
              "                 author                                              links  \\\n",
              "0       Albert Einstein  http://quotes.toscrape.com//author/Albert-Eins...   \n",
              "1          J.K. Rowling     http://quotes.toscrape.com//author/J-K-Rowling   \n",
              "2       Albert Einstein  http://quotes.toscrape.com//author/Albert-Eins...   \n",
              "3           Jane Austen     http://quotes.toscrape.com//author/Jane-Austen   \n",
              "4        Marilyn Monroe  http://quotes.toscrape.com//author/Marilyn-Monroe   \n",
              "5       Albert Einstein  http://quotes.toscrape.com//author/Albert-Eins...   \n",
              "6            André Gide      http://quotes.toscrape.com//author/Andre-Gide   \n",
              "7      Thomas A. Edison  http://quotes.toscrape.com//author/Thomas-A-Ed...   \n",
              "8     Eleanor Roosevelt  http://quotes.toscrape.com//author/Eleanor-Roo...   \n",
              "9          Steve Martin    http://quotes.toscrape.com//author/Steve-Martin   \n",
              "10       Marilyn Monroe  http://quotes.toscrape.com//author/Marilyn-Monroe   \n",
              "11         J.K. Rowling     http://quotes.toscrape.com//author/J-K-Rowling   \n",
              "12      Albert Einstein  http://quotes.toscrape.com//author/Albert-Eins...   \n",
              "13           Bob Marley      http://quotes.toscrape.com//author/Bob-Marley   \n",
              "14            Dr. Seuss        http://quotes.toscrape.com//author/Dr-Seuss   \n",
              "15        Douglas Adams   http://quotes.toscrape.com//author/Douglas-Adams   \n",
              "16          Elie Wiesel     http://quotes.toscrape.com//author/Elie-Wiesel   \n",
              "17  Friedrich Nietzsche  http://quotes.toscrape.com//author/Friedrich-N...   \n",
              "18           Mark Twain      http://quotes.toscrape.com//author/Mark-Twain   \n",
              "19       Allen Saunders  http://quotes.toscrape.com//author/Allen-Saunders   \n",
              "20         Pablo Neruda    http://quotes.toscrape.com//author/Pablo-Neruda   \n",
              "21  Ralph Waldo Emerson  http://quotes.toscrape.com//author/Ralph-Waldo...   \n",
              "22        Mother Teresa   http://quotes.toscrape.com//author/Mother-Teresa   \n",
              "23     Garrison Keillor  http://quotes.toscrape.com//author/Garrison-Ke...   \n",
              "24           Jim Henson      http://quotes.toscrape.com//author/Jim-Henson   \n",
              "25            Dr. Seuss        http://quotes.toscrape.com//author/Dr-Seuss   \n",
              "26      Albert Einstein  http://quotes.toscrape.com//author/Albert-Eins...   \n",
              "27         J.K. Rowling     http://quotes.toscrape.com//author/J-K-Rowling   \n",
              "28      Albert Einstein  http://quotes.toscrape.com//author/Albert-Eins...   \n",
              "29           Bob Marley      http://quotes.toscrape.com//author/Bob-Marley   \n",
              "30            Dr. Seuss        http://quotes.toscrape.com//author/Dr-Seuss   \n",
              "31         J.K. Rowling     http://quotes.toscrape.com//author/J-K-Rowling   \n",
              "32           Bob Marley      http://quotes.toscrape.com//author/Bob-Marley   \n",
              "33        Mother Teresa   http://quotes.toscrape.com//author/Mother-Teresa   \n",
              "34         J.K. Rowling     http://quotes.toscrape.com//author/J-K-Rowling   \n",
              "35    Charles M. Schulz  http://quotes.toscrape.com//author/Charles-M-S...   \n",
              "36    William Nicholson  http://quotes.toscrape.com//author/William-Nic...   \n",
              "37      Albert Einstein  http://quotes.toscrape.com//author/Albert-Eins...   \n",
              "38    Jorge Luis Borges  http://quotes.toscrape.com//author/Jorge-Luis-...   \n",
              "39         George Eliot    http://quotes.toscrape.com//author/George-Eliot   \n",
              "\n",
              "           author_born                                               text  \n",
              "0       March 14, 1879  “The world as we have created it is a process ...  \n",
              "1        July 31, 1965  “It is our choices, Harry, that show what we t...  \n",
              "2       March 14, 1879  “There are only two ways to live your life. On...  \n",
              "3    December 16, 1775  “The person, be it gentleman or lady, who has ...  \n",
              "4        June 01, 1926  “Imperfection is beauty, madness is genius and...  \n",
              "5       March 14, 1879  “Try not to become a man of success. Rather be...  \n",
              "6    November 22, 1869  “It is better to be hated for what you are tha...  \n",
              "7    February 11, 1847  “I have not failed. I've just found 10,000 way...  \n",
              "8     October 11, 1884  “A woman is like a tea bag; you never know how...  \n",
              "9      August 14, 1945  “A day without sunshine is like, you know, nig...  \n",
              "10       June 01, 1926  “This life is what you make it. No matter what...  \n",
              "11       July 31, 1965  “It takes a great deal of bravery to stand up ...  \n",
              "12      March 14, 1879  “If you can't explain it to a six year old, yo...  \n",
              "13   February 06, 1945  “You may not be her first, her last, or her on...  \n",
              "14      March 02, 1904  “I like nonsense, it wakes up the brain cells....  \n",
              "15      March 11, 1952  “I may not have gone where I intended to go, b...  \n",
              "16  September 30, 1928  “The opposite of love is not hate, it's indiff...  \n",
              "17    October 15, 1844  “It is not a lack of love, but a lack of frien...  \n",
              "18   November 30, 1835  “Good friends, good books, and a sleepy consci...  \n",
              "19      April 24, 1899  “Life is what happens to us while we are makin...  \n",
              "20       July 12, 1904  “I love you without knowing how, or when, or f...  \n",
              "21        May 25, 1803  “For every minute you are angry you lose sixty...  \n",
              "22     August 26, 1910  “If you judge people, you have no time to love...  \n",
              "23     August 07, 1942  “Anyone who thinks sitting in church can make ...  \n",
              "24  September 24, 1936  “Beauty is in the eye of the beholder and it m...  \n",
              "25      March 02, 1904  “Today you are You, that is truer than true. T...  \n",
              "26      March 14, 1879  “If you want your children to be intelligent, ...  \n",
              "27       July 31, 1965  “It is impossible to live without failing at s...  \n",
              "28      March 14, 1879  “Logic will get you from A to Z; imagination w...  \n",
              "29   February 06, 1945  “One good thing about music, when it hits you,...  \n",
              "30      March 02, 1904  “The more that you read, the more things you w...  \n",
              "31       July 31, 1965  “Of course it is happening inside your head, H...  \n",
              "32   February 06, 1945  “The truth is, everyone is going to hurt you. ...  \n",
              "33     August 26, 1910  “Not all of us can do great things. But we can...  \n",
              "34       July 31, 1965  “To the well-organized mind, death is but the ...  \n",
              "35   November 26, 1922  “All you need is love. But a little chocolate ...  \n",
              "36    January 12, 1948                 “We read to know we're not alone.”  \n",
              "37      March 14, 1879   “Any fool can know. The point is to understand.”  \n",
              "38     August 24, 1899  “I have always imagined that Paradise will be ...  \n",
              "39   November 22, 1819  “It is never too late to be what you might hav...  "
            ],
            "text/html": [
              "\n",
              "  <div id=\"df-3b677764-f9d8-4834-a846-0190a6a2843e\">\n",
              "    <div class=\"colab-df-container\">\n",
              "      <div>\n",
              "<style scoped>\n",
              "    .dataframe tbody tr th:only-of-type {\n",
              "        vertical-align: middle;\n",
              "    }\n",
              "\n",
              "    .dataframe tbody tr th {\n",
              "        vertical-align: top;\n",
              "    }\n",
              "\n",
              "    .dataframe thead th {\n",
              "        text-align: right;\n",
              "    }\n",
              "</style>\n",
              "<table border=\"1\" class=\"dataframe\">\n",
              "  <thead>\n",
              "    <tr style=\"text-align: right;\">\n",
              "      <th></th>\n",
              "      <th>author</th>\n",
              "      <th>links</th>\n",
              "      <th>author_born</th>\n",
              "      <th>text</th>\n",
              "    </tr>\n",
              "  </thead>\n",
              "  <tbody>\n",
              "    <tr>\n",
              "      <th>0</th>\n",
              "      <td>Albert Einstein</td>\n",
              "      <td>http://quotes.toscrape.com//author/Albert-Eins...</td>\n",
              "      <td>March 14, 1879</td>\n",
              "      <td>“The world as we have created it is a process ...</td>\n",
              "    </tr>\n",
              "    <tr>\n",
              "      <th>1</th>\n",
              "      <td>J.K. Rowling</td>\n",
              "      <td>http://quotes.toscrape.com//author/J-K-Rowling</td>\n",
              "      <td>July 31, 1965</td>\n",
              "      <td>“It is our choices, Harry, that show what we t...</td>\n",
              "    </tr>\n",
              "    <tr>\n",
              "      <th>2</th>\n",
              "      <td>Albert Einstein</td>\n",
              "      <td>http://quotes.toscrape.com//author/Albert-Eins...</td>\n",
              "      <td>March 14, 1879</td>\n",
              "      <td>“There are only two ways to live your life. On...</td>\n",
              "    </tr>\n",
              "    <tr>\n",
              "      <th>3</th>\n",
              "      <td>Jane Austen</td>\n",
              "      <td>http://quotes.toscrape.com//author/Jane-Austen</td>\n",
              "      <td>December 16, 1775</td>\n",
              "      <td>“The person, be it gentleman or lady, who has ...</td>\n",
              "    </tr>\n",
              "    <tr>\n",
              "      <th>4</th>\n",
              "      <td>Marilyn Monroe</td>\n",
              "      <td>http://quotes.toscrape.com//author/Marilyn-Monroe</td>\n",
              "      <td>June 01, 1926</td>\n",
              "      <td>“Imperfection is beauty, madness is genius and...</td>\n",
              "    </tr>\n",
              "    <tr>\n",
              "      <th>5</th>\n",
              "      <td>Albert Einstein</td>\n",
              "      <td>http://quotes.toscrape.com//author/Albert-Eins...</td>\n",
              "      <td>March 14, 1879</td>\n",
              "      <td>“Try not to become a man of success. Rather be...</td>\n",
              "    </tr>\n",
              "    <tr>\n",
              "      <th>6</th>\n",
              "      <td>André Gide</td>\n",
              "      <td>http://quotes.toscrape.com//author/Andre-Gide</td>\n",
              "      <td>November 22, 1869</td>\n",
              "      <td>“It is better to be hated for what you are tha...</td>\n",
              "    </tr>\n",
              "    <tr>\n",
              "      <th>7</th>\n",
              "      <td>Thomas A. Edison</td>\n",
              "      <td>http://quotes.toscrape.com//author/Thomas-A-Ed...</td>\n",
              "      <td>February 11, 1847</td>\n",
              "      <td>“I have not failed. I've just found 10,000 way...</td>\n",
              "    </tr>\n",
              "    <tr>\n",
              "      <th>8</th>\n",
              "      <td>Eleanor Roosevelt</td>\n",
              "      <td>http://quotes.toscrape.com//author/Eleanor-Roo...</td>\n",
              "      <td>October 11, 1884</td>\n",
              "      <td>“A woman is like a tea bag; you never know how...</td>\n",
              "    </tr>\n",
              "    <tr>\n",
              "      <th>9</th>\n",
              "      <td>Steve Martin</td>\n",
              "      <td>http://quotes.toscrape.com//author/Steve-Martin</td>\n",
              "      <td>August 14, 1945</td>\n",
              "      <td>“A day without sunshine is like, you know, nig...</td>\n",
              "    </tr>\n",
              "    <tr>\n",
              "      <th>10</th>\n",
              "      <td>Marilyn Monroe</td>\n",
              "      <td>http://quotes.toscrape.com//author/Marilyn-Monroe</td>\n",
              "      <td>June 01, 1926</td>\n",
              "      <td>“This life is what you make it. No matter what...</td>\n",
              "    </tr>\n",
              "    <tr>\n",
              "      <th>11</th>\n",
              "      <td>J.K. Rowling</td>\n",
              "      <td>http://quotes.toscrape.com//author/J-K-Rowling</td>\n",
              "      <td>July 31, 1965</td>\n",
              "      <td>“It takes a great deal of bravery to stand up ...</td>\n",
              "    </tr>\n",
              "    <tr>\n",
              "      <th>12</th>\n",
              "      <td>Albert Einstein</td>\n",
              "      <td>http://quotes.toscrape.com//author/Albert-Eins...</td>\n",
              "      <td>March 14, 1879</td>\n",
              "      <td>“If you can't explain it to a six year old, yo...</td>\n",
              "    </tr>\n",
              "    <tr>\n",
              "      <th>13</th>\n",
              "      <td>Bob Marley</td>\n",
              "      <td>http://quotes.toscrape.com//author/Bob-Marley</td>\n",
              "      <td>February 06, 1945</td>\n",
              "      <td>“You may not be her first, her last, or her on...</td>\n",
              "    </tr>\n",
              "    <tr>\n",
              "      <th>14</th>\n",
              "      <td>Dr. Seuss</td>\n",
              "      <td>http://quotes.toscrape.com//author/Dr-Seuss</td>\n",
              "      <td>March 02, 1904</td>\n",
              "      <td>“I like nonsense, it wakes up the brain cells....</td>\n",
              "    </tr>\n",
              "    <tr>\n",
              "      <th>15</th>\n",
              "      <td>Douglas Adams</td>\n",
              "      <td>http://quotes.toscrape.com//author/Douglas-Adams</td>\n",
              "      <td>March 11, 1952</td>\n",
              "      <td>“I may not have gone where I intended to go, b...</td>\n",
              "    </tr>\n",
              "    <tr>\n",
              "      <th>16</th>\n",
              "      <td>Elie Wiesel</td>\n",
              "      <td>http://quotes.toscrape.com//author/Elie-Wiesel</td>\n",
              "      <td>September 30, 1928</td>\n",
              "      <td>“The opposite of love is not hate, it's indiff...</td>\n",
              "    </tr>\n",
              "    <tr>\n",
              "      <th>17</th>\n",
              "      <td>Friedrich Nietzsche</td>\n",
              "      <td>http://quotes.toscrape.com//author/Friedrich-N...</td>\n",
              "      <td>October 15, 1844</td>\n",
              "      <td>“It is not a lack of love, but a lack of frien...</td>\n",
              "    </tr>\n",
              "    <tr>\n",
              "      <th>18</th>\n",
              "      <td>Mark Twain</td>\n",
              "      <td>http://quotes.toscrape.com//author/Mark-Twain</td>\n",
              "      <td>November 30, 1835</td>\n",
              "      <td>“Good friends, good books, and a sleepy consci...</td>\n",
              "    </tr>\n",
              "    <tr>\n",
              "      <th>19</th>\n",
              "      <td>Allen Saunders</td>\n",
              "      <td>http://quotes.toscrape.com//author/Allen-Saunders</td>\n",
              "      <td>April 24, 1899</td>\n",
              "      <td>“Life is what happens to us while we are makin...</td>\n",
              "    </tr>\n",
              "    <tr>\n",
              "      <th>20</th>\n",
              "      <td>Pablo Neruda</td>\n",
              "      <td>http://quotes.toscrape.com//author/Pablo-Neruda</td>\n",
              "      <td>July 12, 1904</td>\n",
              "      <td>“I love you without knowing how, or when, or f...</td>\n",
              "    </tr>\n",
              "    <tr>\n",
              "      <th>21</th>\n",
              "      <td>Ralph Waldo Emerson</td>\n",
              "      <td>http://quotes.toscrape.com//author/Ralph-Waldo...</td>\n",
              "      <td>May 25, 1803</td>\n",
              "      <td>“For every minute you are angry you lose sixty...</td>\n",
              "    </tr>\n",
              "    <tr>\n",
              "      <th>22</th>\n",
              "      <td>Mother Teresa</td>\n",
              "      <td>http://quotes.toscrape.com//author/Mother-Teresa</td>\n",
              "      <td>August 26, 1910</td>\n",
              "      <td>“If you judge people, you have no time to love...</td>\n",
              "    </tr>\n",
              "    <tr>\n",
              "      <th>23</th>\n",
              "      <td>Garrison Keillor</td>\n",
              "      <td>http://quotes.toscrape.com//author/Garrison-Ke...</td>\n",
              "      <td>August 07, 1942</td>\n",
              "      <td>“Anyone who thinks sitting in church can make ...</td>\n",
              "    </tr>\n",
              "    <tr>\n",
              "      <th>24</th>\n",
              "      <td>Jim Henson</td>\n",
              "      <td>http://quotes.toscrape.com//author/Jim-Henson</td>\n",
              "      <td>September 24, 1936</td>\n",
              "      <td>“Beauty is in the eye of the beholder and it m...</td>\n",
              "    </tr>\n",
              "    <tr>\n",
              "      <th>25</th>\n",
              "      <td>Dr. Seuss</td>\n",
              "      <td>http://quotes.toscrape.com//author/Dr-Seuss</td>\n",
              "      <td>March 02, 1904</td>\n",
              "      <td>“Today you are You, that is truer than true. T...</td>\n",
              "    </tr>\n",
              "    <tr>\n",
              "      <th>26</th>\n",
              "      <td>Albert Einstein</td>\n",
              "      <td>http://quotes.toscrape.com//author/Albert-Eins...</td>\n",
              "      <td>March 14, 1879</td>\n",
              "      <td>“If you want your children to be intelligent, ...</td>\n",
              "    </tr>\n",
              "    <tr>\n",
              "      <th>27</th>\n",
              "      <td>J.K. Rowling</td>\n",
              "      <td>http://quotes.toscrape.com//author/J-K-Rowling</td>\n",
              "      <td>July 31, 1965</td>\n",
              "      <td>“It is impossible to live without failing at s...</td>\n",
              "    </tr>\n",
              "    <tr>\n",
              "      <th>28</th>\n",
              "      <td>Albert Einstein</td>\n",
              "      <td>http://quotes.toscrape.com//author/Albert-Eins...</td>\n",
              "      <td>March 14, 1879</td>\n",
              "      <td>“Logic will get you from A to Z; imagination w...</td>\n",
              "    </tr>\n",
              "    <tr>\n",
              "      <th>29</th>\n",
              "      <td>Bob Marley</td>\n",
              "      <td>http://quotes.toscrape.com//author/Bob-Marley</td>\n",
              "      <td>February 06, 1945</td>\n",
              "      <td>“One good thing about music, when it hits you,...</td>\n",
              "    </tr>\n",
              "    <tr>\n",
              "      <th>30</th>\n",
              "      <td>Dr. Seuss</td>\n",
              "      <td>http://quotes.toscrape.com//author/Dr-Seuss</td>\n",
              "      <td>March 02, 1904</td>\n",
              "      <td>“The more that you read, the more things you w...</td>\n",
              "    </tr>\n",
              "    <tr>\n",
              "      <th>31</th>\n",
              "      <td>J.K. Rowling</td>\n",
              "      <td>http://quotes.toscrape.com//author/J-K-Rowling</td>\n",
              "      <td>July 31, 1965</td>\n",
              "      <td>“Of course it is happening inside your head, H...</td>\n",
              "    </tr>\n",
              "    <tr>\n",
              "      <th>32</th>\n",
              "      <td>Bob Marley</td>\n",
              "      <td>http://quotes.toscrape.com//author/Bob-Marley</td>\n",
              "      <td>February 06, 1945</td>\n",
              "      <td>“The truth is, everyone is going to hurt you. ...</td>\n",
              "    </tr>\n",
              "    <tr>\n",
              "      <th>33</th>\n",
              "      <td>Mother Teresa</td>\n",
              "      <td>http://quotes.toscrape.com//author/Mother-Teresa</td>\n",
              "      <td>August 26, 1910</td>\n",
              "      <td>“Not all of us can do great things. But we can...</td>\n",
              "    </tr>\n",
              "    <tr>\n",
              "      <th>34</th>\n",
              "      <td>J.K. Rowling</td>\n",
              "      <td>http://quotes.toscrape.com//author/J-K-Rowling</td>\n",
              "      <td>July 31, 1965</td>\n",
              "      <td>“To the well-organized mind, death is but the ...</td>\n",
              "    </tr>\n",
              "    <tr>\n",
              "      <th>35</th>\n",
              "      <td>Charles M. Schulz</td>\n",
              "      <td>http://quotes.toscrape.com//author/Charles-M-S...</td>\n",
              "      <td>November 26, 1922</td>\n",
              "      <td>“All you need is love. But a little chocolate ...</td>\n",
              "    </tr>\n",
              "    <tr>\n",
              "      <th>36</th>\n",
              "      <td>William Nicholson</td>\n",
              "      <td>http://quotes.toscrape.com//author/William-Nic...</td>\n",
              "      <td>January 12, 1948</td>\n",
              "      <td>“We read to know we're not alone.”</td>\n",
              "    </tr>\n",
              "    <tr>\n",
              "      <th>37</th>\n",
              "      <td>Albert Einstein</td>\n",
              "      <td>http://quotes.toscrape.com//author/Albert-Eins...</td>\n",
              "      <td>March 14, 1879</td>\n",
              "      <td>“Any fool can know. The point is to understand.”</td>\n",
              "    </tr>\n",
              "    <tr>\n",
              "      <th>38</th>\n",
              "      <td>Jorge Luis Borges</td>\n",
              "      <td>http://quotes.toscrape.com//author/Jorge-Luis-...</td>\n",
              "      <td>August 24, 1899</td>\n",
              "      <td>“I have always imagined that Paradise will be ...</td>\n",
              "    </tr>\n",
              "    <tr>\n",
              "      <th>39</th>\n",
              "      <td>George Eliot</td>\n",
              "      <td>http://quotes.toscrape.com//author/George-Eliot</td>\n",
              "      <td>November 22, 1819</td>\n",
              "      <td>“It is never too late to be what you might hav...</td>\n",
              "    </tr>\n",
              "  </tbody>\n",
              "</table>\n",
              "</div>\n",
              "      <button class=\"colab-df-convert\" onclick=\"convertToInteractive('df-3b677764-f9d8-4834-a846-0190a6a2843e')\"\n",
              "              title=\"Convert this dataframe to an interactive table.\"\n",
              "              style=\"display:none;\">\n",
              "        \n",
              "  <svg xmlns=\"http://www.w3.org/2000/svg\" height=\"24px\"viewBox=\"0 0 24 24\"\n",
              "       width=\"24px\">\n",
              "    <path d=\"M0 0h24v24H0V0z\" fill=\"none\"/>\n",
              "    <path d=\"M18.56 5.44l.94 2.06.94-2.06 2.06-.94-2.06-.94-.94-2.06-.94 2.06-2.06.94zm-11 1L8.5 8.5l.94-2.06 2.06-.94-2.06-.94L8.5 2.5l-.94 2.06-2.06.94zm10 10l.94 2.06.94-2.06 2.06-.94-2.06-.94-.94-2.06-.94 2.06-2.06.94z\"/><path d=\"M17.41 7.96l-1.37-1.37c-.4-.4-.92-.59-1.43-.59-.52 0-1.04.2-1.43.59L10.3 9.45l-7.72 7.72c-.78.78-.78 2.05 0 2.83L4 21.41c.39.39.9.59 1.41.59.51 0 1.02-.2 1.41-.59l7.78-7.78 2.81-2.81c.8-.78.8-2.07 0-2.86zM5.41 20L4 18.59l7.72-7.72 1.47 1.35L5.41 20z\"/>\n",
              "  </svg>\n",
              "      </button>\n",
              "      \n",
              "  <style>\n",
              "    .colab-df-container {\n",
              "      display:flex;\n",
              "      flex-wrap:wrap;\n",
              "      gap: 12px;\n",
              "    }\n",
              "\n",
              "    .colab-df-convert {\n",
              "      background-color: #E8F0FE;\n",
              "      border: none;\n",
              "      border-radius: 50%;\n",
              "      cursor: pointer;\n",
              "      display: none;\n",
              "      fill: #1967D2;\n",
              "      height: 32px;\n",
              "      padding: 0 0 0 0;\n",
              "      width: 32px;\n",
              "    }\n",
              "\n",
              "    .colab-df-convert:hover {\n",
              "      background-color: #E2EBFA;\n",
              "      box-shadow: 0px 1px 2px rgba(60, 64, 67, 0.3), 0px 1px 3px 1px rgba(60, 64, 67, 0.15);\n",
              "      fill: #174EA6;\n",
              "    }\n",
              "\n",
              "    [theme=dark] .colab-df-convert {\n",
              "      background-color: #3B4455;\n",
              "      fill: #D2E3FC;\n",
              "    }\n",
              "\n",
              "    [theme=dark] .colab-df-convert:hover {\n",
              "      background-color: #434B5C;\n",
              "      box-shadow: 0px 1px 3px 1px rgba(0, 0, 0, 0.15);\n",
              "      filter: drop-shadow(0px 1px 2px rgba(0, 0, 0, 0.3));\n",
              "      fill: #FFFFFF;\n",
              "    }\n",
              "  </style>\n",
              "\n",
              "      <script>\n",
              "        const buttonEl =\n",
              "          document.querySelector('#df-3b677764-f9d8-4834-a846-0190a6a2843e button.colab-df-convert');\n",
              "        buttonEl.style.display =\n",
              "          google.colab.kernel.accessAllowed ? 'block' : 'none';\n",
              "\n",
              "        async function convertToInteractive(key) {\n",
              "          const element = document.querySelector('#df-3b677764-f9d8-4834-a846-0190a6a2843e');\n",
              "          const dataTable =\n",
              "            await google.colab.kernel.invokeFunction('convertToInteractive',\n",
              "                                                     [key], {});\n",
              "          if (!dataTable) return;\n",
              "\n",
              "          const docLinkHtml = 'Like what you see? Visit the ' +\n",
              "            '<a target=\"_blank\" href=https://colab.research.google.com/notebooks/data_table.ipynb>data table notebook</a>'\n",
              "            + ' to learn more about interactive tables.';\n",
              "          element.innerHTML = '';\n",
              "          dataTable['output_type'] = 'display_data';\n",
              "          await google.colab.output.renderOutput(dataTable, element);\n",
              "          const docLink = document.createElement('div');\n",
              "          docLink.innerHTML = docLinkHtml;\n",
              "          element.appendChild(docLink);\n",
              "        }\n",
              "      </script>\n",
              "    </div>\n",
              "  </div>\n",
              "  "
            ]
          },
          "metadata": {},
          "execution_count": 12
        }
      ]
    },
    {
      "cell_type": "code",
      "source": [
        "all_link = []\n",
        "def AfterLink():\n",
        "  for i in range(1, 5):\n",
        "     # Start the session\n",
        "    session = requests.Session()\n",
        "\n",
        "    # Create the payload\n",
        "    payload = {'username':'[admin]',\n",
        "               'password':'[admin]'}\n",
        "      # Post the payload to the site to log in\n",
        "    s = session.post(\"http://quotes.toscrape.com/login\", data=payload)\n",
        "\n",
        "      # Navigate to the next page and scrape the data\n",
        "    s = session.get(f'https://quotes.toscrape.com/page/{i}/')\n",
        "    soup = BeautifulSoup(s.text, 'html.parser')\n",
        "    quote1 = soup.find_all('div',class_='quote')\n",
        "\n",
        "    for quote in quote1:\n",
        "      link1 = quote.find_all('a')\n",
        "      link2 = link1[1].get('href')\n",
        "      all_link.append(link2)\n",
        "AfterLink()"
      ],
      "metadata": {
        "id": "uKv1SJRk1Fkt"
      },
      "execution_count": 13,
      "outputs": []
    },
    {
      "cell_type": "code",
      "source": [
        "DeathYear=[]\n",
        "name_age = []\n",
        "Age = []\n",
        "count_author=[]\n",
        "def tacgia2():\n",
        "  for i in all_link:\n",
        "      url = f'{i}'\n",
        "      read = urlopen(url)\n",
        "      soup = BeautifulSoup(read, 'html.parser')\n",
        "      author1 = soup.find('span',itemprop=\"name\").text\n",
        "      count_author.append(author1)\n",
        "      if (soup.find('div', itemprop=\"deathDate\")) == None :\n",
        "        deathyear = date.today().year\n",
        "        DeathYear.append(deathyear)\n",
        "      else:\n",
        "        deadthyear = soup.find('div',itemprop=\"deathDate\").text\n",
        "        deadthyear = deadthyear.replace('','')[-4:]\n",
        "        DeathYear.append(deadthyear)\n",
        "      \n",
        "      for i in range(len(DeathYear)):\n",
        "        age = int(DeathYear[i]) - int(BirthYear[i])\n",
        "        Age.append(age)\n",
        "      age_author = [author1,age]\n",
        "      name_age.append(age_author)\n",
        "tacgia2() \n",
        "df_age = pd.DataFrame(name_age, columns=['author1','age' ])\n",
        "df_age.head(10)\n",
        "print(df_age)\n",
        "gs = sns.barplot(data=df_age,x = 'author1', y ='age')\n",
        "gs.set_xticklabels(gs.get_xticklabels(),rotation = 90)\n",
        "\n",
        "plt.show()"
      ],
      "metadata": {
        "colab": {
          "base_uri": "https://localhost:8080/",
          "height": 1000
        },
        "id": "MFfNoOVgF8kR",
        "outputId": "7ac370b4-c13c-4868-9e64-62083b5c099d"
      },
      "execution_count": 14,
      "outputs": [
        {
          "output_type": "stream",
          "name": "stdout",
          "text": [
            "                author1  age\n",
            "0       Albert Einstein   76\n",
            "1          J.K. Rowling   57\n",
            "2       Albert Einstein   76\n",
            "3           Jane Austen   42\n",
            "4        Marilyn Monroe   36\n",
            "5       Albert Einstein   76\n",
            "6            André Gide   82\n",
            "7      Thomas A. Edison   84\n",
            "8     Eleanor Roosevelt   78\n",
            "9          Steve Martin   77\n",
            "10       Marilyn Monroe   36\n",
            "11         J.K. Rowling   57\n",
            "12      Albert Einstein   76\n",
            "13           Bob Marley   36\n",
            "14            Dr. Seuss   87\n",
            "15        Douglas Adams   49\n",
            "16          Elie Wiesel   88\n",
            "17  Friedrich Nietzsche   56\n",
            "18           Mark Twain   75\n",
            "19       Allen Saunders   87\n",
            "20         Pablo Neruda   69\n",
            "21  Ralph Waldo Emerson   79\n",
            "22        Mother Teresa   87\n",
            "23     Garrison Keillor   80\n",
            "24           Jim Henson   54\n",
            "25            Dr. Seuss   87\n",
            "26      Albert Einstein   76\n",
            "27         J.K. Rowling   57\n",
            "28      Albert Einstein   76\n",
            "29           Bob Marley   36\n",
            "30            Dr. Seuss   87\n",
            "31         J.K. Rowling   57\n",
            "32           Bob Marley   36\n",
            "33        Mother Teresa   87\n",
            "34         J.K. Rowling   57\n",
            "35    Charles M. Schulz   78\n",
            "36    William Nicholson   74\n",
            "37      Albert Einstein   76\n",
            "38    Jorge Luis Borges   87\n",
            "39         George Eliot   61\n"
          ]
        },
        {
          "output_type": "display_data",
          "data": {
            "text/plain": [
              "<Figure size 432x288 with 1 Axes>"
            ],
            "image/png": "[encoded data removed]"
          },
          "metadata": {
            "needs_background": "light"
          }
        }
      ]
    },
    {
      "cell_type": "markdown",
      "source": [
        "- Thống kê về tác giả và câu nói nổi tiếng có trong bộ dữ liệu,"
      ],
      "metadata": {
        "id": "cXfr5pOqZRKg"
      }
    },
    {
      "cell_type": "code",
      "source": [
        "#thong ke tac gia va cau noi cua tac gia\n",
        "data = pd.read_csv(\"quotes.csv\")\n",
        "author_quote = data['author'].value_counts()\n",
        "author_quote = author_quote.reset_index()\n",
        "author_quote.columns=['author','text']\n",
        "gs = sns.barplot(data=author_quote,x = 'author', y ='text')\n",
        "gs.set_xticklabels(gs.get_xticklabels(),rotation = 90)"
      ],
      "metadata": {
        "colab": {
          "base_uri": "https://localhost:8080/",
          "height": 794
        },
        "id": "d2f8rDG08qkv",
        "outputId": "02104908-eb85-4155-fcfc-9d3d8decc9be"
      },
      "execution_count": 17,
      "outputs": [
        {
          "output_type": "execute_result",
          "data": {
            "text/plain": [
              "[Text(0, 0, 'Albert Einstein'),\n",
              " Text(0, 0, 'J.K. Rowling'),\n",
              " Text(0, 0, 'Bob Marley'),\n",
              " Text(0, 0, 'Dr. Seuss'),\n",
              " Text(0, 0, 'Marilyn Monroe'),\n",
              " Text(0, 0, 'Mother Teresa'),\n",
              " Text(0, 0, 'Allen Saunders'),\n",
              " Text(0, 0, 'Jorge Luis Borges'),\n",
              " Text(0, 0, 'William Nicholson'),\n",
              " Text(0, 0, 'Charles M. Schulz'),\n",
              " Text(0, 0, 'Jim Henson'),\n",
              " Text(0, 0, 'Garrison Keillor'),\n",
              " Text(0, 0, 'Ralph Waldo Emerson'),\n",
              " Text(0, 0, 'Pablo Neruda'),\n",
              " Text(0, 0, 'Friedrich Nietzsche'),\n",
              " Text(0, 0, 'Mark Twain'),\n",
              " Text(0, 0, 'Elie Wiesel'),\n",
              " Text(0, 0, 'Douglas Adams'),\n",
              " Text(0, 0, 'Steve Martin'),\n",
              " Text(0, 0, 'Eleanor Roosevelt'),\n",
              " Text(0, 0, 'Thomas A. Edison'),\n",
              " Text(0, 0, 'André Gide'),\n",
              " Text(0, 0, 'Jane Austen'),\n",
              " Text(0, 0, 'George Eliot')]"
            ]
          },
          "metadata": {},
          "execution_count": 17
        },
        {
          "output_type": "display_data",
          "data": {
            "text/plain": [
              "<Figure size 432x288 with 1 Axes>"
            ],
            "image/png": "[encoded data removed]"
          },
          "metadata": {
            "needs_background": "light"
          }
        }
      ]
    },
    {
      "cell_type": "markdown",
      "source": [
        "Thống kê về năm sinh và độ tuổi của các tác giả,"
      ],
      "metadata": {
        "id": "0o1UcZLT8sXQ"
      }
    },
    {
      "cell_type": "code",
      "source": [
        "year_dict = {}\n",
        "age_dict = {}\n",
        "\n",
        "for i in range(len(BirthYear)):\n",
        "  if BirthYear[i] in year_dict:\n",
        "      year_dict[BirthYear[i]] += 1\n",
        "  else:\n",
        "      year_dict[BirthYear[i]] = 1\n",
        "  if Age[i] in age_dict:\n",
        "\n",
        "    age_dict[Age[i]] += 1\n",
        "  else:\n",
        "    age_dict[Age[i]] = 1\n",
        "\n",
        "print(year_dict)\n",
        "print(age_dict)\n"
      ],
      "metadata": {
        "colab": {
          "base_uri": "https://localhost:8080/"
        },
        "id": "rBPQQ51Zbc2C",
        "outputId": "03d5f6f9-b342-4d0d-af6c-36dd8462d0ef"
      },
      "execution_count": 18,
      "outputs": [
        {
          "output_type": "stream",
          "name": "stdout",
          "text": [
            "{'1879': 7, '1965': 5, '1775': 1, '1926': 2, '1869': 1, '1847': 1, '1884': 1, '1945': 4, '1904': 4, '1952': 1, '1928': 1, '1844': 1, '1835': 1, '1899': 2, '1803': 1, '1910': 2, '1942': 1, '1936': 1, '1922': 1, '1948': 1, '1819': 1}\n",
            "{76: 19, 57: 8, 42: 6, 36: 4, 82: 2, 84: 1}\n"
          ]
        }
      ]
    },
    {
      "cell_type": "markdown",
      "source": [
        "Thống kê về các câu nói nổi tiếng như: câu dài nhất, ngắn nhất, số từ, ..."
      ],
      "metadata": {
        "id": "H8xLw3-F9nr_"
      }
    },
    {
      "cell_type": "code",
      "source": [
        "#thong ke cau dai nhat cau ngan nhat\n",
        "df.insert(4,\"count_quote\", df[\"text\"].apply(lambda x: len(str(x).split(' '))), True)\n",
        "words_count = df[\"text\"].apply(lambda x: len(str(x).split(' ')))\n",
        "\n",
        "df['Count_Words'] = words_count\n",
        "\n",
        "\n",
        "df = df.sort_values(by=['Count_Words'], ascending=False)\n",
        "\n",
        "\n",
        "df_count_word = df[['author','text','Count_Words']]\n",
        "\n",
        "lengthest_word = df_count_word.iloc[0]\n",
        "\n",
        "sortest_word = df_count_word.iloc[-1:]\n",
        "print('Câu dài nhất:')\n",
        "print(lengthest_word)\n",
        "print(\"--------------------------------\")\n",
        "print('\\nCâu ngắn nhất:',sortest_word)\n",
        "\n",
        "df_count_word = df[['author','text','Count_Words']]"
      ],
      "metadata": {
        "colab": {
          "base_uri": "https://localhost:8080/"
        },
        "id": "ADzawJ3r7CjI",
        "outputId": "330b9c7d-4f00-4a6f-ecb8-03efce095504"
      },
      "execution_count": 8,
      "outputs": [
        {
          "output_type": "stream",
          "name": "stdout",
          "text": [
            "Câu dài nhất:\n",
            "author                                            Marilyn Monroe\n",
            "text           “This life is what you make it. No matter what...\n",
            "Count_Words                                                  201\n",
            "Name: 10, dtype: object\n",
            "--------------------------------\n",
            "\n",
            "Câu ngắn nhất:                author                                text  Count_Words\n",
            "36  William Nicholson  “We read to know we're not alone.”            7\n"
          ]
        }
      ]
    },
    {
      "cell_type": "markdown",
      "source": [
        "Thống kê về các từ được sử dụng trong các câu nói,"
      ],
      "metadata": {
        "id": "8qO9VW5S8LSe"
      }
    },
    {
      "cell_type": "code",
      "source": [
        "from collections import Counter\n",
        "#thong ke so tu xuat hien trong cac cau noi\n",
        "count_kitu = Counter(\" \".join(df[\"text\"]).split()).most_common(100)\n",
        "\n",
        "print(\"số từ xuất hiện trong các câu nói \",count_kitu)\n"
      ],
      "metadata": {
        "colab": {
          "base_uri": "https://localhost:8080/"
        },
        "id": "m9C_ksYh8JIX",
        "outputId": "a3d02864-53c6-4b18-a712-3dece252fa1d"
      },
      "execution_count": 19,
      "outputs": [
        {
          "output_type": "stream",
          "name": "stdout",
          "text": [
            "số từ xuất hiện trong các câu nói  [('you', 47), ('is', 36), ('to', 33), ('a', 23), ('of', 21), ('that', 17), ('not', 17), ('the', 16), ('be', 15), ('and', 15), ('it', 12), ('your', 11), ('in', 11), ('I', 10), ('but', 9), ('have', 8), ('more', 8), ('her', 8), ('she', 8), ('can', 8), ('what', 7), ('are', 7), ('or', 7), (\"it's\", 7), ('our', 6), ('“It', 6), ('than', 6), ('The', 6), ('up', 6), ('will', 6), ('may', 6), ('love', 6), ('“The', 5), ('as', 5), ('without', 5), ('who', 5), ('“I', 5), ('never', 5), ('make', 5), ('But', 5), ('them', 5), ('give', 5), ('because', 5), (\"don't\", 5), ('when', 5), ('we', 4), ('good', 4), ('for', 4), ('just', 4), ('know', 4), ('going', 4), ('-', 4), ('if', 4), ('makes', 4), ('so', 4), ('great', 4), ('opposite', 4), ('no', 4), ('live', 3), ('other', 3), ('like', 3), (\"you're\", 3), ('get', 3), ('most', 3), ('much', 3), ('all', 3), ('find', 3), ('fail', 3), ('at', 3), ('keep', 3), ('“If', 3), ('think', 3), ('indifference.', 3), ('from', 3), ('do', 3), ('time', 3), ('read', 3), ('Harry,', 2), ('two', 2), ('ways', 2), ('though', 2), ('everything', 2), ('must', 2), ('better', 2), ('absolutely', 2), ('become', 2), ('man', 2), ('loved', 2), ('“A', 2), ('how', 2), ('life', 2), ('mess', 2), ('part', 2), ('friends', 2), (\"they'll\", 2), ('remember,', 2), ('some', 2), ('ones', 2), ('with', 2), ('best', 2)]\n"
          ]
        }
      ]
    },
    {
      "cell_type": "markdown",
      "source": [
        "2.3. Trích xuất đặc trưng- Feature Extraction (5 điểm):\n",
        "Hãy đề xuất cách trích xuất đặc trưng từ bộ dữ liệu đã cho, cung cấp lý do và giải\n",
        "thích cách làm của bạn."
      ],
      "metadata": {
        "id": "zULl7V_z2lkL"
      }
    },
    {
      "cell_type": "code",
      "source": [
        "!pip install -U sentence-transformers\n",
        "from sklearn.naive_bayes import MultinomialNB\n",
        "from sklearn.feature_extraction.text import CountVectorizer\n",
        "from sklearn.metrics import accuracy_score\n",
        "from sklearn.model_selection import train_test_split\n",
        "from sentence_transformers import SentenceTransformer\n",
        "from sklearn.metrics.pairwise import cosine_similarity\n",
        "import sys"
      ],
      "metadata": {
        "id": "uAn6f0Qg7Owp"
      },
      "execution_count": null,
      "outputs": []
    },
    {
      "cell_type": "code",
      "source": [
        "data = pd.read_csv(\"quotes.csv\")\n",
        "authors = data['author'].tolist()\n",
        "cv = CountVectorizer()\n",
        "sentences = cv.fit_transform(data['text'])\n",
        "count_array = sentences.toarray()\n",
        "df_count = pd.DataFrame(data=count_array,columns = cv.get_feature_names())\n",
        "df_count.to_csv('features.csv', index=False)"
      ],
      "metadata": {
        "id": "8_GSSCsDQfbS",
        "colab": {
          "base_uri": "https://localhost:8080/"
        },
        "outputId": "5acda298-d525-4519-d2aa-c412fee644b2"
      },
      "execution_count": 21,
      "outputs": [
        {
          "output_type": "stream",
          "name": "stderr",
          "text": [
            "/usr/local/lib/python3.7/dist-packages/sklearn/utils/deprecation.py:87: FutureWarning: Function get_feature_names is deprecated; get_feature_names is deprecated in 1.0 and will be removed in 1.2. Please use get_feature_names_out instead.\n",
            "  warnings.warn(msg, category=FutureWarning)\n"
          ]
        }
      ]
    },
    {
      "cell_type": "markdown",
      "source": [
        "2.4. Suy luận (25 điểm):\n",
        "Bạn được yêu cầu phân loại câu nói theo tên người nổi tiếng và tính độ tương đồng\n",
        "phong cách nói giữa các tác giả theo 2 yêu cầu sau:\n",
        "- Hãy dự đoán tên của người nổi tiếng theo câu nói dựa trên các đặc trưng bạn trích\n",
        "xuất ở trên và đánh giá trên bộ dữ liệu đã cho với tỉ lệ Train/Test và các độ đo phù\n",
        "hợp? (15 điểm)\n"
      ],
      "metadata": {
        "id": "bwR2_XaI8Tjo"
      }
    },
    {
      "cell_type": "code",
      "source": [
        "features_train, features_test, labels_train, labels_test = train_test_split(sentences, authors, test_size=0.1, random_state=10)\n",
        "\n",
        "#Apply classification model\n",
        "clf = MultinomialNB()\n",
        "clf.fit(features_train, labels_train)\n",
        "accuracy_score(labels_test,clf.predict(features_test))\n",
        "\n",
        "test = [\"It is our choices, Harry, that show what we truly are, far more than our abilities.\"]\n",
        "\n",
        "vect = cv.transform(test).toarray()\n",
        "print('Tác giả của câu nói:', test,\" chính là:\" ,clf.predict(vect))"
      ],
      "metadata": {
        "colab": {
          "base_uri": "https://localhost:8080/"
        },
        "id": "vh2ajqWL4xwY",
        "outputId": "af87e073-2bd4-4cba-fe95-c4aa895da4c1"
      },
      "execution_count": null,
      "outputs": [
        {
          "output_type": "stream",
          "name": "stdout",
          "text": [
            "Tác giả của câu nói: ['It is our choices, Harry, that show what we truly are, far more than our abilities.']  chính là: ['J.K. Rowling']\n"
          ]
        }
      ]
    }
  ]
}